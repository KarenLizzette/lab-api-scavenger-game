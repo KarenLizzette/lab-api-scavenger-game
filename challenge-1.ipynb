{
 "cells": [
  {
   "cell_type": "code",
   "execution_count": 1,
   "metadata": {},
   "outputs": [],
   "source": [
    "import json\n",
    "import requests\n",
    "import pandas as pd\n",
    "from pandas.io.json import json_normalize"
   ]
  },
  {
   "cell_type": "code",
   "execution_count": 2,
   "metadata": {},
   "outputs": [],
   "source": [
    "url = 'https://api.github.com/repos/ironhack-datalabs/madrid-oct-2018'"
   ]
  },
  {
   "cell_type": "code",
   "execution_count": 4,
   "metadata": {},
   "outputs": [],
   "source": [
    "response = requests.get(url).json()"
   ]
  },
  {
   "cell_type": "code",
   "execution_count": 5,
   "metadata": {},
   "outputs": [],
   "source": [
    "#Obtain the full list of forks created from the main lab repo via Github API\n",
    "f = requests.get(response['forks_url']).json()"
   ]
  },
  {
   "cell_type": "code",
   "execution_count": 6,
   "metadata": {},
   "outputs": [
    {
     "data": {
      "text/plain": [
       "['https://api.github.com/repos/ToniPons97/mad-oct-2018',\n",
       " 'https://api.github.com/repos/rsennes/mad-oct-2018',\n",
       " 'https://api.github.com/repos/gggfaria/mad-oct-2018',\n",
       " 'https://api.github.com/repos/nancyulric/mad-oct-2018',\n",
       " 'https://api.github.com/repos/lmartinezruizit/datamad0119',\n",
       " 'https://api.github.com/repos/eye8/madrid-oct-2018',\n",
       " 'https://api.github.com/repos/ArieHassan/madrid-oct-2018',\n",
       " 'https://api.github.com/repos/cmvalma/madrid-oct-2018',\n",
       " 'https://api.github.com/repos/criraca/madrid-oct-2018',\n",
       " 'https://api.github.com/repos/boyander/madrid-oct-2018',\n",
       " 'https://api.github.com/repos/AlbertoCastellanos/madrid-oct-2018',\n",
       " 'https://api.github.com/repos/elenajpp/madrid-oct-2018',\n",
       " 'https://api.github.com/repos/pablobarrio/madrid-oct-2018',\n",
       " 'https://api.github.com/repos/miriammg/madrid-oct-2018',\n",
       " 'https://api.github.com/repos/albertogcmr/madrid-oct-2018',\n",
       " 'https://api.github.com/repos/marisfont/madrid-oct-2018']"
      ]
     },
     "execution_count": 6,
     "metadata": {},
     "output_type": "execute_result"
    }
   ],
   "source": [
    "list = []\n",
    "for fork in f:\n",
    "    list.append(fork['url'])\n",
    "list"
   ]
  },
  {
   "cell_type": "code",
   "execution_count": 14,
   "metadata": {},
   "outputs": [
    {
     "ename": "NameError",
     "evalue": "name 'requets' is not defined",
     "output_type": "error",
     "traceback": [
      "\u001b[1;31m---------------------------------------------------------------------------\u001b[0m",
      "\u001b[1;31mNameError\u001b[0m                                 Traceback (most recent call last)",
      "\u001b[1;32m<ipython-input-14-2d43412742a0>\u001b[0m in \u001b[0;36m<module>\u001b[1;34m\u001b[0m\n\u001b[0;32m      1\u001b[0m \u001b[1;31m#Loop the JSON response to find out the `language` attribute of each fork. Use an array to store the `language` attributes\u001b[0m\u001b[1;33m\u001b[0m\u001b[1;33m\u001b[0m\u001b[1;33m\u001b[0m\u001b[0m\n\u001b[0;32m      2\u001b[0m \u001b[1;31m#of each fork\u001b[0m\u001b[1;33m\u001b[0m\u001b[1;33m\u001b[0m\u001b[1;33m\u001b[0m\u001b[0m\n\u001b[1;32m----> 3\u001b[1;33m \u001b[0ml\u001b[0m \u001b[1;33m=\u001b[0m \u001b[0mrequets\u001b[0m\u001b[1;33m.\u001b[0m\u001b[0mget\u001b[0m\u001b[1;33m(\u001b[0m\u001b[0mresponse\u001b[0m\u001b[1;33m[\u001b[0m\u001b[1;34m'language'\u001b[0m\u001b[1;33m]\u001b[0m\u001b[1;33m)\u001b[0m\u001b[1;33m.\u001b[0m\u001b[0mjson\u001b[0m\u001b[1;33m(\u001b[0m\u001b[1;33m)\u001b[0m\u001b[1;33m\u001b[0m\u001b[1;33m\u001b[0m\u001b[0m\n\u001b[0m",
      "\u001b[1;31mNameError\u001b[0m: name 'requets' is not defined"
     ]
    }
   ],
   "source": [
    "#Loop the JSON response to find out the `language` attribute of each fork. Use an array to store the `language` attributes\n",
    "#of each fork\n",
    "l = requets.get(response['language']).json()"
   ]
  },
  {
   "cell_type": "code",
   "execution_count": null,
   "metadata": {},
   "outputs": [],
   "source": []
  }
 ],
 "metadata": {
  "kernelspec": {
   "display_name": "Python 3",
   "language": "python",
   "name": "python3"
  },
  "language_info": {
   "codemirror_mode": {
    "name": "ipython",
    "version": 3
   },
   "file_extension": ".py",
   "mimetype": "text/x-python",
   "name": "python",
   "nbconvert_exporter": "python",
   "pygments_lexer": "ipython3",
   "version": "3.7.3"
  }
 },
 "nbformat": 4,
 "nbformat_minor": 2
}
